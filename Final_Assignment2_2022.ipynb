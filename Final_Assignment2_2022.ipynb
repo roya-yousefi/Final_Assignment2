{
 "cells": [
  {
   "cell_type": "markdown",
   "metadata": {},
   "source": [
    "## Final Assignment"
   ]
  },
  {
   "cell_type": "markdown",
   "metadata": {},
   "source": [
    "\n",
    "Before working on this assignment please read the instructions fully. Use blackboard to submit a link to your repository. Upload a rendered document (html/pdf) as well as the original code. Please familiarize yourself with the criteria before beginning the assignment.\n",
    "\n",
    "You should define a research question yourself based on at least two data sources that can be merged into a tidy dataset. The research question should be life science related. The research question should be a question with a causual nature. For instance questions like: How do independent variables X influence the dependent variable of Y? The research question should be answered with an interactive visual, and if possible tested for significance.\n",
    "If you use code snippets from others you should refer to the original author, otherwise you will be accused of plagiarism. Please be prepared to explain your code in a verbal exam. \n",
    "\n"
   ]
  },
  {
   "cell_type": "markdown",
   "metadata": {},
   "source": [
    "Assessment criteria\n",
    "\n",
    "Conditional\n",
    "- No data and or api-key information is stored in the repository. \n",
    "- No hard datapaths are used, datapaths are provided in a configfile.\n",
    "- At least two data sets are merged into one tidy dataframe.\n",
    "\n",
    "Graded\n",
    "- (5 pt) The research question is stated. \n",
    "- (5 pt) Links to sources are provided and a small description about the data\n",
    "- (20 pt) Data qualitity and data quantity are inspected and reported. Appropiate transformations are applied.\n",
    "- (20 pt) Assumptions and presuppositions are made explicit (chosen data storage method, chosen analysis method, chosen design). An argumentative approach is used explaining steps, taken into account data quality and quantity. Explanation is provided either with comments in the code or in a seperate document.\n",
    "- (10 pt) Interactive visualization is extracted from correct analysis of (incomplete) data\n",
    "- (10 pt) The design supports the research question. The data is informative in relation to the topic. Visualization is functional and attractive Figures contain X and Y labels, title and captions. (10)\n",
    "- (20 pt) Code is efficient coded, according to coding style without code smells and easy to read. Code is demonstrated robust and flexible \n",
    "- (10 pt) All the code is stored in repository with Readme including most relevant information to implement the code. used software is suitably licensed and documented\n"
   ]
  },
  {
   "cell_type": "markdown",
   "metadata": {},
   "source": [
    "### About the data\n",
    "\n",
    "You can either choose \n",
    "- a dataset combination provided on blackboard\n",
    "- two datasets on the web from two different sources which can be used to answer a research question\n",
    "- the data from your project\n",
    "\n",
    "You are welcome to choose datasets at your discretion, but keep in mind they will be shared with others, so choose appropriate datasets. You are welcome to use datasets of your own as well, but minimual two datasets should be coming from the web and or API's. \n",
    "\n",
    "Also, you are welcome to preserve data in its original language, but for the purposes of grading you should provide english translations in your visualization. "
   ]
  },
  {
   "cell_type": "markdown",
   "metadata": {},
   "source": [
    "### Instructions:\n",
    "\n",
    "Define a research question, select data and code your data acquisition, data processing, data analysis and visualization. Use a repository with a commit strategy and write a readme file. Make sure that you document your choices. "
   ]
  },
  {
   "attachments": {},
   "cell_type": "markdown",
   "metadata": {},
   "source": [
    "## Question"
   ]
  },
  {
   "cell_type": "code",
   "execution_count": 13,
   "metadata": {},
   "outputs": [],
   "source": [
    "# How many percentage of similarity are there between Father's whole genome SNPs with his chiidren?"
   ]
  },
  {
   "attachments": {},
   "cell_type": "markdown",
   "metadata": {},
   "source": [
    "## Links to sources"
   ]
  },
  {
   "cell_type": "code",
   "execution_count": 14,
   "metadata": {},
   "outputs": [],
   "source": [
    "# Family of Five - Genome Dataset | Kaggle"
   ]
  },
  {
   "attachments": {},
   "cell_type": "markdown",
   "metadata": {},
   "source": [
    "## Dataset description"
   ]
  },
  {
   "attachments": {},
   "cell_type": "markdown",
   "metadata": {},
   "source": [
    "The dataset is a complete genome of a Family of five - Two Parents, Three Siblings (Genome Phenotype SNPs Raw Data)which have been analysed only two children with their Father.The dataset is represented as a sequence of SNPs represented by the following symbols: A (adenine), C (cytosine), G (guanine), T (thymine). It contains Chromosomes 1-22, X, Y, and mitochondrial DNA."
   ]
  },
  {
   "attachments": {},
   "cell_type": "markdown",
   "metadata": {},
   "source": [
    "## Load the Data"
   ]
  },
  {
   "cell_type": "code",
   "execution_count": 17,
   "metadata": {},
   "outputs": [
    {
     "data": {
      "text/html": [
       "<style>\n",
       "        .bk-notebook-logo {\n",
       "            display: block;\n",
       "            width: 20px;\n",
       "            height: 20px;\n",
       "            background-image: url(data:image/png;base64,iVBORw0KGgoAAAANSUhEUgAAABQAAAAUCAYAAACNiR0NAAAABHNCSVQICAgIfAhkiAAAAAlwSFlzAAALEgAACxIB0t1+/AAAABx0RVh0U29mdHdhcmUAQWRvYmUgRmlyZXdvcmtzIENTNui8sowAAAOkSURBVDiNjZRtaJVlGMd/1/08zzln5zjP1LWcU9N0NkN8m2CYjpgQYQXqSs0I84OLIC0hkEKoPtiH3gmKoiJDU7QpLgoLjLIQCpEsNJ1vqUOdO7ppbuec5+V+rj4ctwzd8IIbbi6u+8f1539dt3A78eXC7QizUF7gyV1fD1Yqg4JWz84yffhm0qkFqBogB9rM8tZdtwVsPUhWhGcFJngGeWrPzHm5oaMmkfEg1usvLFyc8jLRqDOMru7AyC8saQr7GG7f5fvDeH7Ej8CM66nIF+8yngt6HWaKh7k49Soy9nXurCi1o3qUbS3zWfrYeQDTB/Qj6kX6Ybhw4B+bOYoLKCC9H3Nu/leUTZ1JdRWkkn2ldcCamzrcf47KKXdAJllSlxAOkRgyHsGC/zRday5Qld9DyoM4/q/rUoy/CXh3jzOu3bHUVZeU+DEn8FInkPBFlu3+nW3Nw0mk6vCDiWg8CeJaxEwuHS3+z5RgY+YBR6V1Z1nxSOfoaPa4LASWxxdNp+VWTk7+4vzaou8v8PN+xo+KY2xsw6une2frhw05CTYOmQvsEhjhWjn0bmXPjpE1+kplmmkP3suftwTubK9Vq22qKmrBhpY4jvd5afdRA3wGjFAgcnTK2s4hY0/GPNIb0nErGMCRxWOOX64Z8RAC4oCXdklmEvcL8o0BfkNK4lUg9HTl+oPlQxdNo3Mg4Nv175e/1LDGzZen30MEjRUtmXSfiTVu1kK8W4txyV6BMKlbgk3lMwYCiusNy9fVfvvwMxv8Ynl6vxoByANLTWplvuj/nF9m2+PDtt1eiHPBr1oIfhCChQMBw6Aw0UulqTKZdfVvfG7VcfIqLG9bcldL/+pdWTLxLUy8Qq38heUIjh4XlzZxzQm19lLFlr8vdQ97rjZVOLf8nclzckbcD4wxXMidpX30sFd37Fv/GtwwhzhxGVAprjbg0gCAEeIgwCZyTV2Z1REEW8O4py0wsjeloKoMr6iCY6dP92H6Vw/oTyICIthibxjm/DfN9lVz8IqtqKYLUXfoKVMVQVVJOElGjrnnUt9T9wbgp8AyYKaGlqingHZU/uG2NTZSVqwHQTWkx9hxjkpWDaCg6Ckj5qebgBVbT3V3NNXMSiWSDdGV3hrtzla7J+duwPOToIg42ChPQOQjspnSlp1V+Gjdged7+8UN5CRAV7a5EdFNwCjEaBR27b3W890TE7g24NAP/mMDXRWrGoFPQI9ls/MWO2dWFAar/xcOIImbbpA3zgAAAABJRU5ErkJggg==);\n",
       "        }\n",
       "    </style>\n",
       "    <div>\n",
       "        <a href=\"https://bokeh.org\" target=\"_blank\" class=\"bk-notebook-logo\"></a>\n",
       "        <span id=\"p1005\">Loading BokehJS ...</span>\n",
       "    </div>\n"
      ]
     },
     "metadata": {},
     "output_type": "display_data"
    },
    {
     "data": {
      "application/javascript": "(function(root) {\n  function now() {\n    return new Date();\n  }\n\n  const force = true;\n\n  if (typeof root._bokeh_onload_callbacks === \"undefined\" || force === true) {\n    root._bokeh_onload_callbacks = [];\n    root._bokeh_is_loading = undefined;\n  }\n\nconst JS_MIME_TYPE = 'application/javascript';\n  const HTML_MIME_TYPE = 'text/html';\n  const EXEC_MIME_TYPE = 'application/vnd.bokehjs_exec.v0+json';\n  const CLASS_NAME = 'output_bokeh rendered_html';\n\n  /**\n   * Render data to the DOM node\n   */\n  function render(props, node) {\n    const script = document.createElement(\"script\");\n    node.appendChild(script);\n  }\n\n  /**\n   * Handle when an output is cleared or removed\n   */\n  function handleClearOutput(event, handle) {\n    const cell = handle.cell;\n\n    const id = cell.output_area._bokeh_element_id;\n    const server_id = cell.output_area._bokeh_server_id;\n    // Clean up Bokeh references\n    if (id != null && id in Bokeh.index) {\n      Bokeh.index[id].model.document.clear();\n      delete Bokeh.index[id];\n    }\n\n    if (server_id !== undefined) {\n      // Clean up Bokeh references\n      const cmd_clean = \"from bokeh.io.state import curstate; print(curstate().uuid_to_server['\" + server_id + \"'].get_sessions()[0].document.roots[0]._id)\";\n      cell.notebook.kernel.execute(cmd_clean, {\n        iopub: {\n          output: function(msg) {\n            const id = msg.content.text.trim();\n            if (id in Bokeh.index) {\n              Bokeh.index[id].model.document.clear();\n              delete Bokeh.index[id];\n            }\n          }\n        }\n      });\n      // Destroy server and session\n      const cmd_destroy = \"import bokeh.io.notebook as ion; ion.destroy_server('\" + server_id + \"')\";\n      cell.notebook.kernel.execute(cmd_destroy);\n    }\n  }\n\n  /**\n   * Handle when a new output is added\n   */\n  function handleAddOutput(event, handle) {\n    const output_area = handle.output_area;\n    const output = handle.output;\n\n    // limit handleAddOutput to display_data with EXEC_MIME_TYPE content only\n    if ((output.output_type != \"display_data\") || (!Object.prototype.hasOwnProperty.call(output.data, EXEC_MIME_TYPE))) {\n      return\n    }\n\n    const toinsert = output_area.element.find(\".\" + CLASS_NAME.split(' ')[0]);\n\n    if (output.metadata[EXEC_MIME_TYPE][\"id\"] !== undefined) {\n      toinsert[toinsert.length - 1].firstChild.textContent = output.data[JS_MIME_TYPE];\n      // store reference to embed id on output_area\n      output_area._bokeh_element_id = output.metadata[EXEC_MIME_TYPE][\"id\"];\n    }\n    if (output.metadata[EXEC_MIME_TYPE][\"server_id\"] !== undefined) {\n      const bk_div = document.createElement(\"div\");\n      bk_div.innerHTML = output.data[HTML_MIME_TYPE];\n      const script_attrs = bk_div.children[0].attributes;\n      for (let i = 0; i < script_attrs.length; i++) {\n        toinsert[toinsert.length - 1].firstChild.setAttribute(script_attrs[i].name, script_attrs[i].value);\n        toinsert[toinsert.length - 1].firstChild.textContent = bk_div.children[0].textContent\n      }\n      // store reference to server id on output_area\n      output_area._bokeh_server_id = output.metadata[EXEC_MIME_TYPE][\"server_id\"];\n    }\n  }\n\n  function register_renderer(events, OutputArea) {\n\n    function append_mime(data, metadata, element) {\n      // create a DOM node to render to\n      const toinsert = this.create_output_subarea(\n        metadata,\n        CLASS_NAME,\n        EXEC_MIME_TYPE\n      );\n      this.keyboard_manager.register_events(toinsert);\n      // Render to node\n      const props = {data: data, metadata: metadata[EXEC_MIME_TYPE]};\n      render(props, toinsert[toinsert.length - 1]);\n      element.append(toinsert);\n      return toinsert\n    }\n\n    /* Handle when an output is cleared or removed */\n    events.on('clear_output.CodeCell', handleClearOutput);\n    events.on('delete.Cell', handleClearOutput);\n\n    /* Handle when a new output is added */\n    events.on('output_added.OutputArea', handleAddOutput);\n\n    /**\n     * Register the mime type and append_mime function with output_area\n     */\n    OutputArea.prototype.register_mime_type(EXEC_MIME_TYPE, append_mime, {\n      /* Is output safe? */\n      safe: true,\n      /* Index of renderer in `output_area.display_order` */\n      index: 0\n    });\n  }\n\n  // register the mime type if in Jupyter Notebook environment and previously unregistered\n  if (root.Jupyter !== undefined) {\n    const events = require('base/js/events');\n    const OutputArea = require('notebook/js/outputarea').OutputArea;\n\n    if (OutputArea.prototype.mime_types().indexOf(EXEC_MIME_TYPE) == -1) {\n      register_renderer(events, OutputArea);\n    }\n  }\n  if (typeof (root._bokeh_timeout) === \"undefined\" || force === true) {\n    root._bokeh_timeout = Date.now() + 5000;\n    root._bokeh_failed_load = false;\n  }\n\n  const NB_LOAD_WARNING = {'data': {'text/html':\n     \"<div style='background-color: #fdd'>\\n\"+\n     \"<p>\\n\"+\n     \"BokehJS does not appear to have successfully loaded. If loading BokehJS from CDN, this \\n\"+\n     \"may be due to a slow or bad network connection. Possible fixes:\\n\"+\n     \"</p>\\n\"+\n     \"<ul>\\n\"+\n     \"<li>re-rerun `output_notebook()` to attempt to load from CDN again, or</li>\\n\"+\n     \"<li>use INLINE resources instead, as so:</li>\\n\"+\n     \"</ul>\\n\"+\n     \"<code>\\n\"+\n     \"from bokeh.resources import INLINE\\n\"+\n     \"output_notebook(resources=INLINE)\\n\"+\n     \"</code>\\n\"+\n     \"</div>\"}};\n\n  function display_loaded() {\n    const el = document.getElementById(\"p1005\");\n    if (el != null) {\n      el.textContent = \"BokehJS is loading...\";\n    }\n    if (root.Bokeh !== undefined) {\n      if (el != null) {\n        el.textContent = \"BokehJS \" + root.Bokeh.version + \" successfully loaded.\";\n      }\n    } else if (Date.now() < root._bokeh_timeout) {\n      setTimeout(display_loaded, 100)\n    }\n  }\n\n  function run_callbacks() {\n    try {\n      root._bokeh_onload_callbacks.forEach(function(callback) {\n        if (callback != null)\n          callback();\n      });\n    } finally {\n      delete root._bokeh_onload_callbacks\n    }\n    console.debug(\"Bokeh: all callbacks have finished\");\n  }\n\n  function load_libs(css_urls, js_urls, callback) {\n    if (css_urls == null) css_urls = [];\n    if (js_urls == null) js_urls = [];\n\n    root._bokeh_onload_callbacks.push(callback);\n    if (root._bokeh_is_loading > 0) {\n      console.debug(\"Bokeh: BokehJS is being loaded, scheduling callback at\", now());\n      return null;\n    }\n    if (js_urls == null || js_urls.length === 0) {\n      run_callbacks();\n      return null;\n    }\n    console.debug(\"Bokeh: BokehJS not loaded, scheduling load and callback at\", now());\n    root._bokeh_is_loading = css_urls.length + js_urls.length;\n\n    function on_load() {\n      root._bokeh_is_loading--;\n      if (root._bokeh_is_loading === 0) {\n        console.debug(\"Bokeh: all BokehJS libraries/stylesheets loaded\");\n        run_callbacks()\n      }\n    }\n\n    function on_error(url) {\n      console.error(\"failed to load \" + url);\n    }\n\n    for (let i = 0; i < css_urls.length; i++) {\n      const url = css_urls[i];\n      const element = document.createElement(\"link\");\n      element.onload = on_load;\n      element.onerror = on_error.bind(null, url);\n      element.rel = \"stylesheet\";\n      element.type = \"text/css\";\n      element.href = url;\n      console.debug(\"Bokeh: injecting link tag for BokehJS stylesheet: \", url);\n      document.body.appendChild(element);\n    }\n\n    for (let i = 0; i < js_urls.length; i++) {\n      const url = js_urls[i];\n      const element = document.createElement('script');\n      element.onload = on_load;\n      element.onerror = on_error.bind(null, url);\n      element.async = false;\n      element.src = url;\n      console.debug(\"Bokeh: injecting script tag for BokehJS library: \", url);\n      document.head.appendChild(element);\n    }\n  };\n\n  function inject_raw_css(css) {\n    const element = document.createElement(\"style\");\n    element.appendChild(document.createTextNode(css));\n    document.body.appendChild(element);\n  }\n\n  const js_urls = [\"https://cdn.bokeh.org/bokeh/release/bokeh-3.0.3.min.js\", \"https://cdn.bokeh.org/bokeh/release/bokeh-gl-3.0.3.min.js\", \"https://cdn.bokeh.org/bokeh/release/bokeh-widgets-3.0.3.min.js\", \"https://cdn.bokeh.org/bokeh/release/bokeh-tables-3.0.3.min.js\", \"https://cdn.bokeh.org/bokeh/release/bokeh-mathjax-3.0.3.min.js\"];\n  const css_urls = [];\n\n  const inline_js = [    function(Bokeh) {\n      Bokeh.set_log_level(\"info\");\n    },\nfunction(Bokeh) {\n    }\n  ];\n\n  function run_inline_js() {\n    if (root.Bokeh !== undefined || force === true) {\n          for (let i = 0; i < inline_js.length; i++) {\n      inline_js[i].call(root, root.Bokeh);\n    }\nif (force === true) {\n        display_loaded();\n      }} else if (Date.now() < root._bokeh_timeout) {\n      setTimeout(run_inline_js, 100);\n    } else if (!root._bokeh_failed_load) {\n      console.log(\"Bokeh: BokehJS failed to load within specified timeout.\");\n      root._bokeh_failed_load = true;\n    } else if (force !== true) {\n      const cell = $(document.getElementById(\"p1005\")).parents('.cell').data().cell;\n      cell.output_area.append_execute_result(NB_LOAD_WARNING)\n    }\n  }\n\n  if (root._bokeh_is_loading === 0) {\n    console.debug(\"Bokeh: BokehJS loaded, going straight to plotting\");\n    run_inline_js();\n  } else {\n    load_libs(css_urls, js_urls, function() {\n      console.debug(\"Bokeh: BokehJS plotting callback run at\", now());\n      run_inline_js();\n    });\n  }\n}(window));",
      "application/vnd.bokehjs_load.v0+json": ""
     },
     "metadata": {},
     "output_type": "display_data"
    }
   ],
   "source": [
    "import pandas as pd\n",
    "import numpy as np\n",
    "import yaml\n",
    "from bokeh.io import output_notebook\n",
    "from bokeh.plotting import ColumnDataSource\n",
    "from bokeh.palettes import Bright6\n",
    "from bokeh.plotting import figure, show, output_notebook\n",
    "from bokeh.palettes import HighContrast3\n",
    "from functools import reduce\n",
    "from bokeh.palettes import Spectral\n",
    "from bokeh.palettes import Greys256, Inferno256, Magma256,Plasma256\n",
    "from bokeh.palettes import Viridis256, Cividis256, Turbo256\n",
    "output_notebook()"
   ]
  },
  {
   "cell_type": "code",
   "execution_count": 22,
   "metadata": {},
   "outputs": [
    {
     "ename": "FileNotFoundError",
     "evalue": "[Errno 2] No such file or directory: 'Final_Assignment.yaml'",
     "output_type": "error",
     "traceback": [
      "\u001b[1;31m---------------------------------------------------------------------------\u001b[0m",
      "\u001b[1;31mFileNotFoundError\u001b[0m                         Traceback (most recent call last)",
      "Cell \u001b[1;32mIn[22], line 6\u001b[0m\n\u001b[0;32m      4\u001b[0m         config \u001b[39m=\u001b[39m yaml\u001b[39m.\u001b[39msafe_load(stream)\n\u001b[0;32m      5\u001b[0m     \u001b[39mreturn\u001b[39;00m config\n\u001b[1;32m----> 6\u001b[0m config \u001b[39m=\u001b[39m get_config()\n\u001b[0;32m      8\u001b[0m \u001b[39m#load and read data frames\u001b[39;00m\n\u001b[0;32m      9\u001b[0m Child1Genome \u001b[39m=\u001b[39m config[\u001b[39m\"\u001b[39m\u001b[39mChild1Genome\u001b[39m\u001b[39m\"\u001b[39m]\n",
      "Cell \u001b[1;32mIn[22], line 3\u001b[0m, in \u001b[0;36mget_config\u001b[1;34m()\u001b[0m\n\u001b[0;32m      2\u001b[0m \u001b[39mdef\u001b[39;00m \u001b[39mget_config\u001b[39m():\n\u001b[1;32m----> 3\u001b[0m     \u001b[39mwith\u001b[39;00m \u001b[39mopen\u001b[39;49m(\u001b[39m\"\u001b[39;49m\u001b[39mFinal_Assignment.yaml\u001b[39;49m\u001b[39m\"\u001b[39;49m, \u001b[39m'\u001b[39;49m\u001b[39mr\u001b[39;49m\u001b[39m'\u001b[39;49m) \u001b[39mas\u001b[39;00m stream:\n\u001b[0;32m      4\u001b[0m         config \u001b[39m=\u001b[39m yaml\u001b[39m.\u001b[39msafe_load(stream)\n\u001b[0;32m      5\u001b[0m     \u001b[39mreturn\u001b[39;00m config\n",
      "File \u001b[1;32m~\\AppData\\Roaming\\Python\\Python311\\site-packages\\IPython\\core\\interactiveshell.py:282\u001b[0m, in \u001b[0;36m_modified_open\u001b[1;34m(file, *args, **kwargs)\u001b[0m\n\u001b[0;32m    275\u001b[0m \u001b[39mif\u001b[39;00m file \u001b[39min\u001b[39;00m {\u001b[39m0\u001b[39m, \u001b[39m1\u001b[39m, \u001b[39m2\u001b[39m}:\n\u001b[0;32m    276\u001b[0m     \u001b[39mraise\u001b[39;00m \u001b[39mValueError\u001b[39;00m(\n\u001b[0;32m    277\u001b[0m         \u001b[39mf\u001b[39m\u001b[39m\"\u001b[39m\u001b[39mIPython won\u001b[39m\u001b[39m'\u001b[39m\u001b[39mt let you open fd=\u001b[39m\u001b[39m{\u001b[39;00mfile\u001b[39m}\u001b[39;00m\u001b[39m by default \u001b[39m\u001b[39m\"\u001b[39m\n\u001b[0;32m    278\u001b[0m         \u001b[39m\"\u001b[39m\u001b[39mas it is likely to crash IPython. If you know what you are doing, \u001b[39m\u001b[39m\"\u001b[39m\n\u001b[0;32m    279\u001b[0m         \u001b[39m\"\u001b[39m\u001b[39myou can use builtins\u001b[39m\u001b[39m'\u001b[39m\u001b[39m open.\u001b[39m\u001b[39m\"\u001b[39m\n\u001b[0;32m    280\u001b[0m     )\n\u001b[1;32m--> 282\u001b[0m \u001b[39mreturn\u001b[39;00m io_open(file, \u001b[39m*\u001b[39;49margs, \u001b[39m*\u001b[39;49m\u001b[39m*\u001b[39;49mkwargs)\n",
      "\u001b[1;31mFileNotFoundError\u001b[0m: [Errno 2] No such file or directory: 'Final_Assignment.yaml'"
     ]
    }
   ],
   "source": [
    "# load config file\n",
    "def get_config():\n",
    "    with open(\"Final_Assignment.yaml\", 'r') as stream:\n",
    "        config = yaml.safe_load(stream)\n",
    "    return config\n",
    "config = get_config()\n",
    "\n",
    "#load and read data frames\n",
    "Child1Genome = config[\"Child1Genome\"]\n",
    "Child2Genome = config[\"Child2Genome\"]\n",
    "Child3Genome = config[\"Child3Genome\"]\n",
    "FatherGenome = config[\"FatherGenome\"]\n",
    "MotherGenome = config[\"MotherGenome\"]\n",
    "\n",
    "df_Child1Genome = pd.read_csv(Child1Genome, low_memory=False)\n",
    "df_Child2Genome = pd.read_csv(Child2Genome, low_memory=False)\n",
    "df_Child3Genome = pd.read_csv(Child3Genome, low_memory=False)\n",
    "df_FatherGenome = pd.read_csv(FatherGenome, low_memory=False)\n",
    "df_MotherGenome = pd.read_csv(MotherGenome, low_memory=False)\n",
    "print(df_Child1Genome.head())\n",
    "print(df_Child2Genome.head())\n",
    "print(df_FatherGenome.head())"
   ]
  },
  {
   "attachments": {},
   "cell_type": "markdown",
   "metadata": {},
   "source": [
    "## inspection the Data"
   ]
  },
  {
   "cell_type": "code",
   "execution_count": null,
   "metadata": {},
   "outputs": [
    {
     "name": "stdout",
     "output_type": "stream",
     "text": [
      "<class 'pandas.core.frame.DataFrame'>\n",
      "Int64Index: 595186 entries, 0 to 601801\n",
      "Data columns (total 4 columns):\n",
      " #   Column      Non-Null Count   Dtype \n",
      "---  ------      --------------   ----- \n",
      " 0   # rsid      595186 non-null  object\n",
      " 1   chromosome  595186 non-null  object\n",
      " 2   position    595186 non-null  int64 \n",
      " 3   genotype    595186 non-null  object\n",
      "dtypes: int64(1), object(3)\n",
      "memory usage: 22.7+ MB\n"
     ]
    }
   ],
   "source": [
    "#checking for noisy and outliers Data:\n",
    "    #categorical data like SNPs does not have outliers and noisy data\n",
    "\n",
    "\n",
    "#checking for missing Data:\n",
    "df_Child1Genome2= df_Child1Genome.replace('--', np.nan)\n",
    "df_Child1Genome2.isna().any()\n",
    "\n",
    "df_Child2Genome2=df_Child2Genome.replace('--', np.nan)\n",
    "df_Child2Genome2.isna().any()\n",
    "\n",
    "df_FatherGenome2=df_FatherGenome.replace('--', np.nan)\n",
    "df_FatherGenome2.isna().any()\n",
    "\n",
    "#proportion of missing Data:\n",
    "\n",
    "len(df_Child1Genome2[df_Child1Genome2['genotype'].isna()])/len(df_Child1Genome2['genotype'])* 100\n",
    "len(df_Child2Genome2[df_Child2Genome2['genotype'].isna()])/len(df_Child2Genome2['genotype'])* 100\n",
    "len(df_FatherGenome2[df_FatherGenome2['genotype'].isna()])/len(df_FatherGenome2['genotype'])* 100\n",
    "\n",
    "#missing Data Handling:\n",
    "#becuase the proportion of missing Data are less than 3 Persent, these would be droped\n",
    "clean_Child1Genome2= df_Child1Genome2.dropna()\n",
    "clean_Child2Genome2 = df_Child2Genome2.dropna()\n",
    "clean_FatherGenome2 = df_FatherGenome2.dropna()\n",
    "clean_FatherGenome2.info()\n",
    "\n"
   ]
  },
  {
   "attachments": {},
   "cell_type": "markdown",
   "metadata": {},
   "source": [
    "## wrangeling the Data"
   ]
  },
  {
   "cell_type": "code",
   "execution_count": null,
   "metadata": {},
   "outputs": [
    {
     "name": "stdout",
     "output_type": "stream",
     "text": [
      "  chromosome  position     rsid_Ch1 genotype_Ch1\n",
      "0          1    734462   rs12564807           AA\n",
      "1          1    752721    rs3131972           AG\n",
      "2          1    760998  rs148828841           AC\n",
      "3          1    776546   rs12124819           AG\n",
      "4          1    787173  rs115093905           GG\n",
      "  chromosome  position     rsid_Ch2 genotype_Ch2\n",
      "0          1     69869  rs548049170           TT\n",
      "1          1    565508    rs9283150           AA\n",
      "2          1    727841  rs116587930           GG\n",
      "3          1    752721    rs3131972           GG\n",
      "4          1    754105   rs12184325           CC\n",
      "  chromosome  position      rsid_Fa genotype_Fa\n",
      "0          1    734462   rs12564807          AA\n",
      "1          1    752721    rs3131972          AG\n",
      "2          1    760998  rs148828841          AC\n",
      "3          1    776546   rs12124819          AA\n",
      "4          1    787173  rs115093905          GG\n"
     ]
    },
    {
     "data": {
      "text/html": [
       "<div>\n",
       "<style scoped>\n",
       "    .dataframe tbody tr th:only-of-type {\n",
       "        vertical-align: middle;\n",
       "    }\n",
       "\n",
       "    .dataframe tbody tr th {\n",
       "        vertical-align: top;\n",
       "    }\n",
       "\n",
       "    .dataframe thead th {\n",
       "        text-align: right;\n",
       "    }\n",
       "</style>\n",
       "<table border=\"1\" class=\"dataframe\">\n",
       "  <thead>\n",
       "    <tr style=\"text-align: right;\">\n",
       "      <th></th>\n",
       "      <th>chromosome</th>\n",
       "      <th>position</th>\n",
       "      <th>rsid_Fa</th>\n",
       "      <th>genotype_Fa</th>\n",
       "      <th>rsid_Ch1</th>\n",
       "      <th>genotype_Ch1</th>\n",
       "      <th>rsid_Ch2</th>\n",
       "      <th>genotype_Ch2</th>\n",
       "    </tr>\n",
       "  </thead>\n",
       "  <tbody>\n",
       "    <tr>\n",
       "      <th>0</th>\n",
       "      <td>1</td>\n",
       "      <td>752721</td>\n",
       "      <td>rs3131972</td>\n",
       "      <td>AG</td>\n",
       "      <td>rs3131972</td>\n",
       "      <td>AG</td>\n",
       "      <td>rs3131972</td>\n",
       "      <td>GG</td>\n",
       "    </tr>\n",
       "    <tr>\n",
       "      <th>1</th>\n",
       "      <td>1</td>\n",
       "      <td>776546</td>\n",
       "      <td>rs12124819</td>\n",
       "      <td>AA</td>\n",
       "      <td>rs12124819</td>\n",
       "      <td>AG</td>\n",
       "      <td>rs12124819</td>\n",
       "      <td>AA</td>\n",
       "    </tr>\n",
       "    <tr>\n",
       "      <th>2</th>\n",
       "      <td>1</td>\n",
       "      <td>824398</td>\n",
       "      <td>rs7538305</td>\n",
       "      <td>AA</td>\n",
       "      <td>rs7538305</td>\n",
       "      <td>AA</td>\n",
       "      <td>rs7538305</td>\n",
       "      <td>AA</td>\n",
       "    </tr>\n",
       "    <tr>\n",
       "      <th>3</th>\n",
       "      <td>1</td>\n",
       "      <td>846808</td>\n",
       "      <td>rs4475691</td>\n",
       "      <td>TT</td>\n",
       "      <td>rs4475691</td>\n",
       "      <td>CT</td>\n",
       "      <td>rs4475691</td>\n",
       "      <td>TT</td>\n",
       "    </tr>\n",
       "    <tr>\n",
       "      <th>4</th>\n",
       "      <td>1</td>\n",
       "      <td>854250</td>\n",
       "      <td>rs7537756</td>\n",
       "      <td>GG</td>\n",
       "      <td>rs7537756</td>\n",
       "      <td>AG</td>\n",
       "      <td>rs7537756</td>\n",
       "      <td>GG</td>\n",
       "    </tr>\n",
       "  </tbody>\n",
       "</table>\n",
       "</div>"
      ],
      "text/plain": [
       "  chromosome  position     rsid_Fa genotype_Fa    rsid_Ch1 genotype_Ch1  \\\n",
       "0          1    752721   rs3131972          AG   rs3131972           AG   \n",
       "1          1    776546  rs12124819          AA  rs12124819           AG   \n",
       "2          1    824398   rs7538305          AA   rs7538305           AA   \n",
       "3          1    846808   rs4475691          TT   rs4475691           CT   \n",
       "4          1    854250   rs7537756          GG   rs7537756           AG   \n",
       "\n",
       "     rsid_Ch2 genotype_Ch2  \n",
       "0   rs3131972           GG  \n",
       "1  rs12124819           AA  \n",
       "2   rs7538305           AA  \n",
       "3   rs4475691           TT  \n",
       "4   rs7537756           GG  "
      ]
     },
     "execution_count": 4,
     "metadata": {},
     "output_type": "execute_result"
    }
   ],
   "source": [
    "#rearrenge the order of columns:\n",
    "clean1_Child1Genome2= clean_Child1Genome2[['chromosome', 'position', '# rsid', 'genotype']]\n",
    "clean1_Child1Genome2.head()\n",
    "\n",
    "clean1_Child2Genome2= clean_Child2Genome2[['chromosome', 'position', '# rsid', 'genotype']]\n",
    "clean1_Child2Genome2.head()\n",
    "\n",
    "clean1_FatherGenome2=clean_FatherGenome2[['chromosome', 'position', '# rsid', 'genotype']]\n",
    "clean1_FatherGenome2.head()\n",
    "\n",
    "#renamed columns:\n",
    "clean2_Child1Genome2=clean1_Child1Genome2.rename(columns={\"# rsid\":\"rsid_Ch1\",\"genotype\":\"genotype_Ch1\"})\n",
    "clean2_Child2Genome2=clean1_Child2Genome2.rename(columns={\"# rsid\":\"rsid_Ch2\",\"genotype\":\"genotype_Ch2\"})\n",
    "clean2_FatherGenome2=clean1_FatherGenome2.rename(columns={\"# rsid\":\"rsid_Fa\",\"genotype\":\"genotype_Fa\"})\n",
    "\n",
    "print(clean2_Child1Genome2.head())\n",
    "print(clean2_Child2Genome2.head())\n",
    "print(clean2_FatherGenome2.head())\n",
    "\n",
    "#merging Father's genome with two children on \"chromosome\",\"position\" columns\n",
    "FamilyGenome = pd.merge(pd.merge(clean2_FatherGenome2,clean2_Child1Genome2,on=[\"chromosome\",\"position\"]),clean2_Child2Genome2,on=[\"chromosome\",\"position\"]) \n",
    "FamilyGenome.head() \n"
   ]
  },
  {
   "attachments": {},
   "cell_type": "markdown",
   "metadata": {},
   "source": [
    "## Result"
   ]
  },
  {
   "cell_type": "code",
   "execution_count": null,
   "metadata": {},
   "outputs": [
    {
     "name": "stdout",
     "output_type": "stream",
     "text": [
      "   chromosome  similarity_Ch1  similarity_Ch2\n",
      "0           1            6038            5999\n",
      "1          10            3634            3669\n",
      "2          11            3757            3810\n",
      "3          12            3778            3733\n",
      "4          13            2731            2728\n",
      "5          14            2528            2566\n",
      "6          15            2311            2300\n",
      "7          16            2536            2570\n",
      "8          17            2422            2464\n",
      "9          18            2205            2109\n",
      "10         19            2226            2286\n",
      "11          2            5820            5852\n",
      "12         20            1861            1845\n",
      "13         21            1134            1097\n",
      "14         22            1151            1165\n",
      "15          3            4921            4925\n",
      "16          4            4328            4355\n",
      "17          5            4150            4148\n",
      "18          6            6120            5940\n",
      "19          7            4168            4127\n",
      "20          8            3782            3800\n",
      "21          9            3252            3245\n",
      "22         MT           13452           13454\n",
      "23          X            2164            2116\n",
      "24          Y            1505            1505\n"
     ]
    }
   ],
   "source": [
    "#similarity analysis by using Definition on Datasets\n",
    "def similarity1(genotype):\n",
    "    if genotype[\"genotype_Fa\"] == genotype[\"genotype_Ch1\"]:\n",
    "        similarity_Ch1 =1\n",
    "    else:\n",
    "        similarity_Ch1= 0\n",
    "    return similarity_Ch1 \n",
    "       \n",
    "def similarity2(genotype):\n",
    "    if genotype[\"genotype_Fa\"] == genotype[\"genotype_Ch2\"]:\n",
    "        similarity_Ch2 =1\n",
    "    else:\n",
    "        similarity_Ch2= 0\n",
    "    return similarity_Ch2 \n",
    "\n",
    "FamilyGenome[\"similarity_Ch1\"] = FamilyGenome.apply(similarity1,axis=1)       \n",
    "FamilyGenome[\"similarity_Ch2\"] = FamilyGenome.apply(similarity2,axis=1)\n",
    "FamilyGenome.head()\n",
    "\n",
    "FamilyGenome=FamilyGenome.groupby(\"chromosome\",as_index=False).aggregate({'similarity_Ch1':'sum','similarity_Ch2':'sum'})\n",
    "print(FamilyGenome)"
   ]
  },
  {
   "cell_type": "code",
   "execution_count": null,
   "metadata": {},
   "outputs": [],
   "source": [
    "\n",
    "\n",
    "\n",
    "#chromosome = ['1','2','3','4','5','6','7','8','9','10','11','12','13','14','15','16','17','18','19','20','21','22','Y','X','MT']\n",
    "#similarity = [\"similarity_Ch1\",\"similarity_Ch2\"]\n",
    "#p = figure(x_range=chromosome, height=250, title=\"genotype similarity between fathar and childs\",\n",
    "           #toolbar_location=None, tools=\"hover\")\n",
    "\n",
    "#p.vbar_stack(similarity, x='chromosome', width=0.9, color=HighContrast3, source=FamilyGenome,\n",
    "             #legend_label=similarity)\n",
    "\n",
    "#p.y_range.start = 0\n",
    "#p.x_range.range_padding = 0.1\n",
    "#p.xgrid.grid_line_color = None\n",
    "#p.axis.minor_tick_line_color = None\n",
    "#p.outline_line_color = None\n",
    "#p.legend.location = \"top_left\"\n",
    "#p.legend.orientation = \"horizontal\"\n",
    "#'similarity_Ch1'    :[ 6038,5820,4921,4328,4150,6120,4168,3782,3252,3634,3757,3778,2731,2528,2311]"
   ]
  },
  {
   "cell_type": "code",
   "execution_count": null,
   "metadata": {},
   "outputs": [],
   "source": []
  },
  {
   "cell_type": "code",
   "execution_count": null,
   "metadata": {},
   "outputs": [
    {
     "data": {
      "text/html": [
       "\n",
       "  <div id=\"9b857a59-817b-4e00-8534-ab48ab5d1945\" data-root-id=\"p1002\" style=\"display: contents;\"></div>\n"
      ]
     },
     "metadata": {},
     "output_type": "display_data"
    },
    {
     "data": {
      "application/javascript": "(function(root) {\n  function embed_document(root) {\n  const docs_json = {\"abe2a230-1701-47b7-8e3c-c2647ceca9d0\":{\"version\":\"3.0.3\",\"title\":\"Bokeh Application\",\"defs\":[],\"roots\":[{\"type\":\"object\",\"name\":\"Figure\",\"id\":\"p1002\",\"attributes\":{\"height\":500,\"x_range\":{\"type\":\"object\",\"name\":\"FactorRange\",\"id\":\"p1012\",\"attributes\":{\"factors\":[\"1\",\"10\",\"11\",\"12\",\"13\",\"14\",\"15\",\"16\",\"17\",\"18\",\"19\",\"2\",\"20\",\"21\",\"22\",\"3\",\"4\",\"5\",\"6\",\"7\",\"8\",\"9\",\"MT\",\"X\",\"Y\"],\"range_padding\":0.1}},\"y_range\":{\"type\":\"object\",\"name\":\"DataRange1d\",\"id\":\"p1004\",\"attributes\":{\"start\":0}},\"x_scale\":{\"type\":\"object\",\"name\":\"CategoricalScale\",\"id\":\"p1016\"},\"y_scale\":{\"type\":\"object\",\"name\":\"LinearScale\",\"id\":\"p1018\"},\"title\":{\"type\":\"object\",\"name\":\"Title\",\"id\":\"p1005\",\"attributes\":{\"text\":\"genotype similarity between fathar and childs\"}},\"outline_line_color\":null,\"renderers\":[{\"type\":\"object\",\"name\":\"GlyphRenderer\",\"id\":\"p1061\",\"attributes\":{\"name\":\"similarity_Ch1\",\"data_source\":{\"type\":\"object\",\"name\":\"ColumnDataSource\",\"id\":\"p1052\",\"attributes\":{\"selected\":{\"type\":\"object\",\"name\":\"Selection\",\"id\":\"p1054\",\"attributes\":{\"indices\":[],\"line_indices\":[]}},\"selection_policy\":{\"type\":\"object\",\"name\":\"UnionRenderers\",\"id\":\"p1053\"},\"data\":{\"type\":\"map\",\"entries\":[[\"chromosome\",[\"1\",\"10\",\"11\",\"12\",\"13\",\"14\",\"15\",\"16\",\"17\",\"18\",\"19\",\"2\",\"20\",\"21\",\"22\",\"3\",\"4\",\"5\",\"6\",\"7\",\"8\",\"9\",\"MT\",\"X\",\"Y\"]],[\"similarity_Ch1\",[6038,3634,3757,3778,2731,2528,2311,2536,2422,2205,2226,5820,1861,1134,1151,4921,4328,4150,6120,4168,3782,3252,13452,2164,1505]],[\"similarity_Ch2\",[5999,3669,3810,3733,2728,2566,2300,2570,2464,2109,2286,5852,1845,1097,1165,4925,4355,4148,5940,4127,3800,3245,13454,2116,1505]]]}}},\"view\":{\"type\":\"object\",\"name\":\"CDSView\",\"id\":\"p1062\",\"attributes\":{\"filter\":{\"type\":\"object\",\"name\":\"AllIndices\",\"id\":\"p1063\"}}},\"glyph\":{\"type\":\"object\",\"name\":\"VBar\",\"id\":\"p1058\",\"attributes\":{\"x\":{\"type\":\"field\",\"field\":\"chromosome\"},\"width\":{\"type\":\"value\",\"value\":0.9},\"bottom\":{\"type\":\"expr\",\"expr\":{\"type\":\"object\",\"name\":\"Stack\",\"id\":\"p1048\",\"attributes\":{\"fields\":[]}}},\"top\":{\"type\":\"expr\",\"expr\":{\"type\":\"object\",\"name\":\"Stack\",\"id\":\"p1049\",\"attributes\":{\"fields\":[\"similarity_Ch1\"]}}},\"line_color\":{\"type\":\"value\",\"value\":\"#c9d9d3\"},\"fill_color\":{\"type\":\"value\",\"value\":\"#c9d9d3\"},\"hatch_color\":{\"type\":\"value\",\"value\":\"#c9d9d3\"}}},\"nonselection_glyph\":{\"type\":\"object\",\"name\":\"VBar\",\"id\":\"p1059\",\"attributes\":{\"x\":{\"type\":\"field\",\"field\":\"chromosome\"},\"width\":{\"type\":\"value\",\"value\":0.9},\"bottom\":{\"type\":\"expr\",\"expr\":{\"id\":\"p1048\"}},\"top\":{\"type\":\"expr\",\"expr\":{\"id\":\"p1049\"}},\"line_color\":{\"type\":\"value\",\"value\":\"#c9d9d3\"},\"line_alpha\":{\"type\":\"value\",\"value\":0.1},\"fill_color\":{\"type\":\"value\",\"value\":\"#c9d9d3\"},\"fill_alpha\":{\"type\":\"value\",\"value\":0.1},\"hatch_color\":{\"type\":\"value\",\"value\":\"#c9d9d3\"},\"hatch_alpha\":{\"type\":\"value\",\"value\":0.1}}},\"muted_glyph\":{\"type\":\"object\",\"name\":\"VBar\",\"id\":\"p1060\",\"attributes\":{\"x\":{\"type\":\"field\",\"field\":\"chromosome\"},\"width\":{\"type\":\"value\",\"value\":0.9},\"bottom\":{\"type\":\"expr\",\"expr\":{\"id\":\"p1048\"}},\"top\":{\"type\":\"expr\",\"expr\":{\"id\":\"p1049\"}},\"line_color\":{\"type\":\"value\",\"value\":\"#c9d9d3\"},\"line_alpha\":{\"type\":\"value\",\"value\":0.2},\"fill_color\":{\"type\":\"value\",\"value\":\"#c9d9d3\"},\"fill_alpha\":{\"type\":\"value\",\"value\":0.2},\"hatch_color\":{\"type\":\"value\",\"value\":\"#c9d9d3\"},\"hatch_alpha\":{\"type\":\"value\",\"value\":0.2}}}}},{\"type\":\"object\",\"name\":\"GlyphRenderer\",\"id\":\"p1088\",\"attributes\":{\"name\":\"similarity_Ch2\",\"data_source\":{\"type\":\"object\",\"name\":\"ColumnDataSource\",\"id\":\"p1079\",\"attributes\":{\"selected\":{\"type\":\"object\",\"name\":\"Selection\",\"id\":\"p1081\",\"attributes\":{\"indices\":[],\"line_indices\":[]}},\"selection_policy\":{\"type\":\"object\",\"name\":\"UnionRenderers\",\"id\":\"p1080\"},\"data\":{\"type\":\"map\",\"entries\":[[\"chromosome\",[\"1\",\"10\",\"11\",\"12\",\"13\",\"14\",\"15\",\"16\",\"17\",\"18\",\"19\",\"2\",\"20\",\"21\",\"22\",\"3\",\"4\",\"5\",\"6\",\"7\",\"8\",\"9\",\"MT\",\"X\",\"Y\"]],[\"similarity_Ch1\",[6038,3634,3757,3778,2731,2528,2311,2536,2422,2205,2226,5820,1861,1134,1151,4921,4328,4150,6120,4168,3782,3252,13452,2164,1505]],[\"similarity_Ch2\",[5999,3669,3810,3733,2728,2566,2300,2570,2464,2109,2286,5852,1845,1097,1165,4925,4355,4148,5940,4127,3800,3245,13454,2116,1505]]]}}},\"view\":{\"type\":\"object\",\"name\":\"CDSView\",\"id\":\"p1089\",\"attributes\":{\"filter\":{\"type\":\"object\",\"name\":\"AllIndices\",\"id\":\"p1090\"}}},\"glyph\":{\"type\":\"object\",\"name\":\"VBar\",\"id\":\"p1085\",\"attributes\":{\"x\":{\"type\":\"field\",\"field\":\"chromosome\"},\"width\":{\"type\":\"value\",\"value\":0.9},\"bottom\":{\"type\":\"expr\",\"expr\":{\"type\":\"object\",\"name\":\"Stack\",\"id\":\"p1050\",\"attributes\":{\"fields\":[\"similarity_Ch1\"]}}},\"top\":{\"type\":\"expr\",\"expr\":{\"type\":\"object\",\"name\":\"Stack\",\"id\":\"p1051\",\"attributes\":{\"fields\":[\"similarity_Ch1\",\"similarity_Ch2\"]}}},\"line_color\":{\"type\":\"value\",\"value\":\"#718dbf\"},\"fill_color\":{\"type\":\"value\",\"value\":\"#718dbf\"},\"hatch_color\":{\"type\":\"value\",\"value\":\"#718dbf\"}}},\"nonselection_glyph\":{\"type\":\"object\",\"name\":\"VBar\",\"id\":\"p1086\",\"attributes\":{\"x\":{\"type\":\"field\",\"field\":\"chromosome\"},\"width\":{\"type\":\"value\",\"value\":0.9},\"bottom\":{\"type\":\"expr\",\"expr\":{\"id\":\"p1050\"}},\"top\":{\"type\":\"expr\",\"expr\":{\"id\":\"p1051\"}},\"line_color\":{\"type\":\"value\",\"value\":\"#718dbf\"},\"line_alpha\":{\"type\":\"value\",\"value\":0.1},\"fill_color\":{\"type\":\"value\",\"value\":\"#718dbf\"},\"fill_alpha\":{\"type\":\"value\",\"value\":0.1},\"hatch_color\":{\"type\":\"value\",\"value\":\"#718dbf\"},\"hatch_alpha\":{\"type\":\"value\",\"value\":0.1}}},\"muted_glyph\":{\"type\":\"object\",\"name\":\"VBar\",\"id\":\"p1087\",\"attributes\":{\"x\":{\"type\":\"field\",\"field\":\"chromosome\"},\"width\":{\"type\":\"value\",\"value\":0.9},\"bottom\":{\"type\":\"expr\",\"expr\":{\"id\":\"p1050\"}},\"top\":{\"type\":\"expr\",\"expr\":{\"id\":\"p1051\"}},\"line_color\":{\"type\":\"value\",\"value\":\"#718dbf\"},\"line_alpha\":{\"type\":\"value\",\"value\":0.2},\"fill_color\":{\"type\":\"value\",\"value\":\"#718dbf\"},\"fill_alpha\":{\"type\":\"value\",\"value\":0.2},\"hatch_color\":{\"type\":\"value\",\"value\":\"#718dbf\"},\"hatch_alpha\":{\"type\":\"value\",\"value\":0.2}}}}}],\"toolbar\":{\"type\":\"object\",\"name\":\"Toolbar\",\"id\":\"p1009\",\"attributes\":{\"tools\":[{\"type\":\"object\",\"name\":\"PanTool\",\"id\":\"p1033\"},{\"type\":\"object\",\"name\":\"WheelZoomTool\",\"id\":\"p1034\"},{\"type\":\"object\",\"name\":\"BoxZoomTool\",\"id\":\"p1035\",\"attributes\":{\"overlay\":{\"type\":\"object\",\"name\":\"BoxAnnotation\",\"id\":\"p1036\",\"attributes\":{\"syncable\":false,\"level\":\"overlay\",\"visible\":false,\"left_units\":\"canvas\",\"right_units\":\"canvas\",\"bottom_units\":\"canvas\",\"top_units\":\"canvas\",\"line_color\":\"black\",\"line_alpha\":1.0,\"line_width\":2,\"line_dash\":[4,4],\"fill_color\":\"lightgrey\",\"fill_alpha\":0.5}}}},{\"type\":\"object\",\"name\":\"SaveTool\",\"id\":\"p1037\"},{\"type\":\"object\",\"name\":\"ResetTool\",\"id\":\"p1038\"},{\"type\":\"object\",\"name\":\"HelpTool\",\"id\":\"p1039\"}]}},\"left\":[{\"type\":\"object\",\"name\":\"LinearAxis\",\"id\":\"p1026\",\"attributes\":{\"ticker\":{\"type\":\"object\",\"name\":\"BasicTicker\",\"id\":\"p1028\",\"attributes\":{\"mantissas\":[1,2,5]}},\"formatter\":{\"type\":\"object\",\"name\":\"BasicTickFormatter\",\"id\":\"p1027\"},\"major_label_policy\":{\"type\":\"object\",\"name\":\"AllLabels\",\"id\":\"p1029\"},\"minor_tick_line_color\":null}}],\"below\":[{\"type\":\"object\",\"name\":\"CategoricalAxis\",\"id\":\"p1020\",\"attributes\":{\"ticker\":{\"type\":\"object\",\"name\":\"CategoricalTicker\",\"id\":\"p1022\"},\"formatter\":{\"type\":\"object\",\"name\":\"CategoricalTickFormatter\",\"id\":\"p1021\"},\"major_label_policy\":{\"type\":\"object\",\"name\":\"AllLabels\",\"id\":\"p1023\"},\"minor_tick_line_color\":null}}],\"center\":[{\"type\":\"object\",\"name\":\"Grid\",\"id\":\"p1025\",\"attributes\":{\"axis\":{\"id\":\"p1020\"},\"grid_line_color\":null}},{\"type\":\"object\",\"name\":\"Grid\",\"id\":\"p1032\",\"attributes\":{\"dimension\":1,\"axis\":{\"id\":\"p1026\"}}},{\"type\":\"object\",\"name\":\"Legend\",\"id\":\"p1077\",\"attributes\":{\"location\":\"top_left\",\"orientation\":\"horizontal\",\"items\":[{\"type\":\"object\",\"name\":\"LegendItem\",\"id\":\"p1078\",\"attributes\":{\"label\":{\"type\":\"value\",\"value\":\"similarity_Ch1\"},\"renderers\":[{\"id\":\"p1061\"}]}},{\"type\":\"object\",\"name\":\"LegendItem\",\"id\":\"p1109\",\"attributes\":{\"label\":{\"type\":\"value\",\"value\":\"similarity_Ch2\"},\"renderers\":[{\"id\":\"p1088\"}]}}]}}]}}]}};\n  const render_items = [{\"docid\":\"abe2a230-1701-47b7-8e3c-c2647ceca9d0\",\"roots\":{\"p1002\":\"9b857a59-817b-4e00-8534-ab48ab5d1945\"},\"root_ids\":[\"p1002\"]}];\n  root.Bokeh.embed.embed_items_notebook(docs_json, render_items);\n  }\n  if (root.Bokeh !== undefined) {\n    embed_document(root);\n  } else {\n    let attempts = 0;\n    const timer = setInterval(function(root) {\n      if (root.Bokeh !== undefined) {\n        clearInterval(timer);\n        embed_document(root);\n      } else {\n        attempts++;\n        if (attempts > 100) {\n          clearInterval(timer);\n          console.log(\"Bokeh: ERROR: Unable to run BokehJS code because BokehJS library is missing\");\n        }\n      }\n    }, 10, root)\n  }\n})(window);",
      "application/vnd.bokehjs_exec.v0+json": ""
     },
     "metadata": {
      "application/vnd.bokehjs_exec.v0+json": {
       "id": "p1002"
      }
     },
     "output_type": "display_data"
    }
   ],
   "source": [
    "\n",
    "\n",
    "chromosome = FamilyGenome['chromosome'].tolist()\n",
    "similarity1 = FamilyGenome['similarity_Ch1'].tolist()\n",
    "similarity2 = FamilyGenome['similarity_Ch2'].tolist()\n",
    "\n",
    "similarity = ['similarity_Ch1','similarity_Ch2']\n",
    "colors = [\"#c9d9d3\", \"#718dbf\"]\n",
    "\n",
    "#data =FamilyGenome=FamilyGenome.groupby(\"chromosome\").aggregate({'similarity_Ch1':'sum','similarity_Ch2':'sum'})\n",
    "data = {'chromosome':chromosome,\n",
    "'similarity_Ch1'    :similarity1,                                                                                                                                                                      \n",
    "'similarity_Ch2'    :similarity2}\n",
    "\n",
    "\n",
    "g = figure(x_range=chromosome,height=500,title=\"genotype similarity between fathar and childs\")\n",
    "          \n",
    "g.vbar_stack(similarity,x='chromosome',source=data,color=colors,width=0.9,legend_label=similarity)\n",
    "g.y_range.start = 0\n",
    "g.x_range.range_padding = 0.1\n",
    "g.xgrid.grid_line_color = None\n",
    "g.axis.minor_tick_line_color = None\n",
    "g.outline_line_color = None\n",
    "g.legend.location = \"top_left\"\n",
    "g.legend.orientation = \"horizontal\"\n",
    "show(g)"
   ]
  },
  {
   "cell_type": "code",
   "execution_count": null,
   "metadata": {},
   "outputs": [],
   "source": []
  },
  {
   "cell_type": "code",
   "execution_count": null,
   "metadata": {},
   "outputs": [],
   "source": []
  },
  {
   "cell_type": "code",
   "execution_count": null,
   "metadata": {},
   "outputs": [],
   "source": []
  }
 ],
 "metadata": {
  "kernelspec": {
   "display_name": "Python 3",
   "language": "python",
   "name": "python3"
  },
  "language_info": {
   "codemirror_mode": {
    "name": "ipython",
    "version": 3
   },
   "file_extension": ".py",
   "mimetype": "text/x-python",
   "name": "python",
   "nbconvert_exporter": "python",
   "pygments_lexer": "ipython3",
   "version": "3.11.0"
  },
  "vscode": {
   "interpreter": {
    "hash": "64924d34f5c95f261818ee0e41d58b43741dcf0b72677c10b726c1fe86046c0c"
   }
  }
 },
 "nbformat": 4,
 "nbformat_minor": 2
}
